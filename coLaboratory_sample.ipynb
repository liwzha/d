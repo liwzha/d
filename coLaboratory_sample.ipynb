{
  "worksheets": [
    {
      "cells": [
        {
          "cell_type": "code",
          "input": "import numpy as np\nimport pandas as pd\nimport matplotlib.pyplot as plt\n\n%matplotlib inline\n\nx = np.random.randn(10,1)\ny = np.exp(x)\nplt.figure()\nplt.plot(x,y,'.')\nplt.show()",
          "outputs": [
            {
              "image/png": "[encoded data removed]",
              "text/plain": "<matplotlib.figure.Figure at 0xa46da04c>",
              "output_type": "display_data",
              "metadata": {}
            }
          ],
          "language": "python",
          "metadata": {
            "cellView": null,
            "executionInfo": {
              "content": {
                "status": "ok",
                "execution_count": 13,
                "payload": [],
                "user_expressions": {},
                "user_variables": {}
              },
              "timestamp": 1422241660183,
              "user_tz": 360,
              "user": {
                "sessionId": "6b45ada6ab29b8b1",
                "userId": "115219124291048349052",
                "permissionId": "08534300599026392046",
                "displayName": "Liwen Zhang",
                "color": "#1FA15D",
                "isMe": true,
                "isAnonymous": false,
                "photoUrl": "//lh4.googleusercontent.com/-VtCCIRwGgF0/AAAAAAAAAAI/AAAAAAAAAd0/nUUYyG3ISfo/s50-c-k-no/photo.jpg"
              }
            }
          }
        },
        {
          "cell_type": "markdown",
          "source": "\\begin{align*}\nx\n\\end{align*}"
        }
      ]
    }
  ],
  "metadata": {
    "name": "coLaboratory_sample.ipynb",
    "colabVersion": "0.1"
  },
  "nbformat": 3,
  "nbformat_minor": 0
}